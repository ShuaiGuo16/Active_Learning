{
 "cells": [
  {
   "cell_type": "markdown",
   "metadata": {},
   "source": [
    "# Introduction\n",
    "\n",
    "In this notebook, we will walk through a case study, where an active learning strategy is employed to train a regression model adaptively. \n",
    "\n",
    "Active learning lets the model decide where in the parameter space it wants to learn next. By using only the necessary samples, an active learning strategy can effectively cut down the number of training samples, thus significantly improving \n",
    "\n",
    "In the current case study, the **Gaussian Process** is chosen as the target regression model, since this model type automatically estimates its prediction uncertainty (in the form of variance), thus permitting an esay implementation of the desired active learning strategy. \n",
    "\n",
    "To understand more about the intuition of the active learning approach, please check out the companion blog:"
   ]
  },
  {
   "cell_type": "code",
   "execution_count": 1,
   "metadata": {},
   "outputs": [],
   "source": [
    "# import all packages and set plots to be embedded inline\n",
    "import numpy as np\n",
    "import sklearn.gaussian_process as gp\n",
    "import matplotlib.pyplot as plt\n",
    "import pandas as pd\n",
    "\n",
    "%matplotlib inline\n",
    "np.set_printoptions(precision=2,suppress=True)"
   ]
  },
  {
   "cell_type": "markdown",
   "metadata": {},
   "source": [
    "### Test Function\n",
    "In this case study, we will train \n",
    "\n",
    "\\begin{equation}\n",
    "f(x) = (6x-2)^2 sin(12x-4), \\; x \\in [0, 1]\n",
    "\\end{equation}\n",
    "\n",
    "We can visually identify the global minimum of this test function by plotting it out."
   ]
  }
 ],
 "metadata": {
  "kernelspec": {
   "display_name": "Python 3",
   "language": "python",
   "name": "python3"
  },
  "language_info": {
   "codemirror_mode": {
    "name": "ipython",
    "version": 3
   },
   "file_extension": ".py",
   "mimetype": "text/x-python",
   "name": "python",
   "nbconvert_exporter": "python",
   "pygments_lexer": "ipython3",
   "version": "3.8.5"
  }
 },
 "nbformat": 4,
 "nbformat_minor": 4
}
