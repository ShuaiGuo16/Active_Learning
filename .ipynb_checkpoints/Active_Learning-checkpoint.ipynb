{
 "cells": [
  {
   "cell_type": "markdown",
   "metadata": {},
   "source": [
    "# Introduction\n",
    "\n",
    "In this notebook, we will walk through a case study, where an active learning strategy is employed to train a regression model adaptively. \n",
    "\n",
    "Active learning lets the model decide where in the parameter space it wants to learn next. By using only the necessary samples, an active learning strategy can effectively cut down the number of training samples, thus significantly reducing the computational burden of labeling training samples and improving the overall training efficiency.\n",
    "\n",
    "In the current case study, the **Gaussian Process** is chosen as the target regression model, since this model type automatically estimates its prediction uncertainty (in the form of variance), thus permitting an esay implementation of the desired active learning strategy. \n",
    "\n",
    "To understand more about the intuition of the active learning approach, please check out the companion blog:"
   ]
  },
  {
   "cell_type": "code",
   "execution_count": 1,
   "metadata": {},
   "outputs": [],
   "source": [
    "# import all packages and set plots to be embedded inline\n",
    "import numpy as np\n",
    "import sklearn.gaussian_process as gp\n",
    "import matplotlib.pyplot as plt\n",
    "import pandas as pd\n",
    "\n",
    "%matplotlib inline\n",
    "np.set_printoptions(precision=2,suppress=True)"
   ]
  },
  {
   "cell_type": "markdown",
   "metadata": {},
   "source": [
    "### Test Function\n",
    "\n",
    "We select the following test function in this case study:\n",
    "\n",
    "\\begin{equation}\n",
    "f(x) = 3(1-x)^2e^{(-x^2-1)}-10(0.2x-x^3)e^{-x^2}, \\; x \\in [-4, 1]\n",
    "\\end{equation}\n",
    "\n",
    "Later on, we will train a Gaussian Process model to approximate this test function. To minimize the number of employed training samples, we will use an active learning strategy to intelligiently select one new sample at each learning iteration. Details of the active learning workflow is given in a latter section. \n",
    "\n",
    "For now, let's first plot this function to gain some intuition."
   ]
  },
  {
   "cell_type": "code",
   "execution_count": 4,
   "metadata": {},
   "outputs": [
    {
     "data": {
      "image/png": "[encoded data removed]",
      "text/plain": [
       "<Figure size 504x360 with 1 Axes>"
      ]
     },
     "metadata": {
      "needs_background": "light"
     },
     "output_type": "display_data"
    }
   ],
   "source": [
    "# Test function values\n",
    "X_test = np.linspace(-4, 1, 100)\n",
    "y_test = 3*(1-X_test)**2*np.exp(-X_test**2-1) \\\n",
    "            - 10*(0.2*X_test-X_test**3)*np.exp(-X_test**2)\n",
    "            \n",
    "\n",
    "# Display test function\n",
    "fig, ax = plt.subplots(figsize=(7,5))\n",
    "ax.plot(X_test,y_test,'r--',linewidth=2,label='Test Function')\n",
    "ax.set_xlabel('x', fontsize=15)\n",
    "ax.set_ylabel('f(x)', fontsize=15)\n",
    "ax.set_xlim([-4,1]);\n",
    "ax.set_ylim([-3.5,3.5]);\n",
    "plt.savefig('./images/Test_function.png')"
   ]
  },
  {
   "cell_type": "markdown",
   "metadata": {},
   "source": [
    "From the figure above, we can see that the current test function describes a rather complex relationship between the input $x$ and the output $f(x)$: a flat region exists in the range [-4, -3], while multimodal responses dominates the remaining region. Since the correlation length varies significantly across the parameter space, it is challenging to construct a globally accurate Gaussian Process model."
   ]
  },
  {
   "cell_type": "markdown",
   "metadata": {},
   "source": [
    "### Active learning strategy\n",
    "\n",
    "To reduce the number of samples required in the training process, we adopt an active learning strategy to iteratively refine the Gaussian Process (GP) model. \n",
    "\n",
    "#### The Workflow\n",
    "\n",
    "The general of the adopted active learning strategy consists of the following steps:\n",
    "\n",
    "1. Train a model based on the currently available data;\n",
    "2. Employ a *learning function* to decide the next sample to label;\n",
    "3. Label the selected sample;\n",
    "4.Enrich the current training dataset with the labeled sample;\n",
    "5. Repeat steps 1–4 until the model reaches the target accuracy.\n",
    "\n",
    "A visual illustration of the above steps is given below.\n",
    "\n",
    "<img src=\"./images/Active_Learning.png\" width=500 height=300 />\n",
    "\n",
    "#### The Learning Function\n",
    "\n",
    "Our goal is to strengthen the model at the place where it makes the largest prediction error. As a result, we want a learning function that can estimate the prediction errors of the unseen samples.\n",
    "\n",
    "The prediction error can be defined as \n",
    "\n",
    "\\begin{equation}\n",
    "L(x) = (y(x)-M(x))^2,\n",
    "\\end{equation}\n",
    "\n",
    "where $y(x)$ and $M(x)$ are the true function value and model prediction value for sample $x$, respectively. According to the **bias-variance decomposition**, the expected value of $L(x)$ can be written as \n",
    "\n",
    "\\begin{equation}\n",
    "E[L(x)] = \\underbrace{y(x)-E[M(x)]}_{\\text{bias}^2} + \\underbrace{var[M(x)]}_{\\text{variance}}\n",
    "\\end{equation}\n",
    "\n",
    "However, computing $E[L(x)]$ is not straight-forward: although obtaining the variance value is easy (=model prediction variance), calculating the true bias value is simply impossible, as the true function output $y(x)$ is unknown. Therefore, we need to estimate the true bias value for an unseen sample $x$.\n",
    "\n",
    "In this study, we use leave-one-out cross-validation error to estimate the prediction bias for an unseen sample $x^{\\ast}$. Here are the steps:\n",
    "\n"
   ]
  },
  {
   "cell_type": "code",
   "execution_count": null,
   "metadata": {},
   "outputs": [],
   "source": []
  }
 ],
 "metadata": {
  "kernelspec": {
   "display_name": "Python 3",
   "language": "python",
   "name": "python3"
  },
  "language_info": {
   "codemirror_mode": {
    "name": "ipython",
    "version": 3
   },
   "file_extension": ".py",
   "mimetype": "text/x-python",
   "name": "python",
   "nbconvert_exporter": "python",
   "pygments_lexer": "ipython3",
   "version": "3.8.5"
  }
 },
 "nbformat": 4,
 "nbformat_minor": 4
}
